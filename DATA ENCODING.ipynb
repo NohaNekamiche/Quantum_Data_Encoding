{
 "cells": [
  {
   "cell_type": "code",
   "execution_count": 1,
   "id": "73fc846d-42b9-482e-8b5c-37dc5bebc748",
   "metadata": {},
   "outputs": [
    {
     "name": "stderr",
     "output_type": "stream",
     "text": [
      "<frozen importlib._bootstrap>:219: RuntimeWarning: scipy._lib.messagestream.MessageStream size changed, may indicate binary incompatibility. Expected 56 from C header, got 64 from PyObject\n"
     ]
    }
   ],
   "source": [
    "import numpy as np\n",
    "\n",
    "# Importing standard Qiskit libraries\n",
    "from qiskit import QuantumCircuit, transpile, Aer, IBMQ\n",
    "from qiskit.tools.jupyter import *\n",
    "from qiskit.visualization import *\n",
    "from ibm_quantum_widgets import *\n",
    "from qiskit.providers.aer import QasmSimulator\n",
    "\n",
    "# Loading your IBM Quantum account(s)\n",
    "provider = IBMQ.load_account()"
   ]
  },
  {
   "cell_type": "markdown",
   "id": "5dcf3828-6a43-4eb1-8fcd-ecac8b7bf18c",
   "metadata": {},
   "source": [
    "Basis Encoding\n"
   ]
  },
  {
   "cell_type": "code",
   "execution_count": 3,
   "id": "16ddbdbe-83a7-47dc-8901-b660dfbd7a83",
   "metadata": {},
   "outputs": [
    {
     "name": "stdout",
     "output_type": "stream",
     "text": [
      "Collecting paddlepaddle\n",
      "  Downloading paddlepaddle-2.2.2-cp38-cp38-manylinux1_x86_64.whl (108.4 MB)\n",
      "\u001b[K     |████████████████████████████████| 108.4 MB 1.6 kB/s eta 0:00:011   |██████                          | 20.5 MB 7.7 MB/s eta 0:00:12                    | 28.8 MB 7.7 MB/s eta 0:00:110:10�█                      | 33.5 MB 7.7 MB/s eta 0:00:10  | 39.4 MB 407 kB/s eta 0:02:50████████▋                   | 42.9 MB 407 kB/s eta 0:02:41██████████▋                 | 49.3 MB 407 kB/s eta 0:02:25kB/s eta 0:02:17/s eta 0:02:11            | 57.9 MB 407 kB/s eta 0:02:04��█▊              | 60.2 MB 407 kB/s eta 0:01:59�█████████▋             | 63.0 MB 407 kB/s eta 0:01:52███████▍            | 65.6 MB 407 kB/s eta 0:01:46��████████████████████▋          | 73.1 MB 17.8 MB/s eta 0:00:02█▍         | 76.0 MB 17.8 MB/s eta 0:00:02��███████████▎        | 78.9 MB 17.8 MB/s eta 0:00:021.3 MB 17.8 MB/s eta 0:00:02B/s eta 0:00:02 17.8 MB/s eta 0:00:02�███████     | 91.3 MB 17.8 MB/s eta 0:00:01ta 0:00:01��███████████████████▌   | 96.4 MB 17.8 MB/s eta 0:00:01    |█████████████████████████████▎  | 99.2 MB 17.8 MB/s eta 0:00:01�▉  | 101.0 MB 17.8 MB/s eta 0:00:01�█████████████████████████████▍ | 102.9 MB 17.8 MB/s eta 0:00:01�██████████ | 104.9 MB 17.8 MB/s eta 0:00:01█████████████████████▋| 107.0 MB 531 kB/s eta 0:00:03�████████| 108.4 MB 531 kB/s eta 0:00:01\n",
      "\u001b[?25hRequirement already satisfied: decorator in /opt/conda/lib/python3.8/site-packages (from paddlepaddle) (5.1.1)\n",
      "Requirement already satisfied: protobuf>=3.1.0 in /opt/conda/lib/python3.8/site-packages (from paddlepaddle) (3.14.0)\n",
      "Requirement already satisfied: requests>=2.20.0 in /opt/conda/lib/python3.8/site-packages (from paddlepaddle) (2.27.1)\n",
      "Requirement already satisfied: Pillow in /opt/conda/lib/python3.8/site-packages (from paddlepaddle) (9.0.1)\n",
      "Requirement already satisfied: six in /opt/conda/lib/python3.8/site-packages (from paddlepaddle) (1.16.0)\n",
      "Collecting astor\n",
      "  Downloading astor-0.8.1-py2.py3-none-any.whl (27 kB)\n",
      "Requirement already satisfied: numpy>=1.13 in /opt/conda/lib/python3.8/site-packages (from paddlepaddle) (1.22.3)\n",
      "Requirement already satisfied: charset-normalizer~=2.0.0 in /opt/conda/lib/python3.8/site-packages (from requests>=2.20.0->paddlepaddle) (2.0.12)\n",
      "Requirement already satisfied: idna<4,>=2.5 in /opt/conda/lib/python3.8/site-packages (from requests>=2.20.0->paddlepaddle) (3.3)\n",
      "Requirement already satisfied: urllib3<1.27,>=1.21.1 in /opt/conda/lib/python3.8/site-packages (from requests>=2.20.0->paddlepaddle) (1.26.9)\n",
      "Requirement already satisfied: certifi>=2017.4.17 in /opt/conda/lib/python3.8/site-packages (from requests>=2.20.0->paddlepaddle) (2021.10.8)\n",
      "Installing collected packages: astor, paddlepaddle\n",
      "Successfully installed astor-0.8.1 paddlepaddle-2.2.2\n",
      "Note: you may need to restart the kernel to use updated packages.\n"
     ]
    }
   ],
   "source": [
    "pip install paddlepaddle"
   ]
  },
  {
   "cell_type": "code",
   "execution_count": 5,
   "id": "3eaa70f1-8c98-41dc-8676-9556003980c0",
   "metadata": {},
   "outputs": [
    {
     "name": "stdout",
     "output_type": "stream",
     "text": [
      "Collecting paddle-quantum\n",
      "  Downloading paddle_quantum-2.1.3-py3-none-any.whl (205 kB)\n",
      "\u001b[K     |████████████████████████████████| 205 kB 4.8 kB/s eta 0:00:01\n",
      "\u001b[?25hRequirement already satisfied: matplotlib>=3.3.0 in /opt/conda/lib/python3.8/site-packages (from paddle-quantum) (3.5.1)\n",
      "Requirement already satisfied: networkx>=2.5 in /opt/conda/lib/python3.8/site-packages (from paddle-quantum) (2.7.1)\n",
      "Requirement already satisfied: scipy in /opt/conda/lib/python3.8/site-packages (from paddle-quantum) (1.8.0)\n",
      "Requirement already satisfied: paddlepaddle>=2.2.0 in /opt/conda/lib/python3.8/site-packages (from paddle-quantum) (2.2.2)\n",
      "Requirement already satisfied: pyscf in /opt/conda/lib/python3.8/site-packages (from paddle-quantum) (2.0.1)\n",
      "Collecting openfermion\n",
      "  Downloading openfermion-1.3.0-py3-none-any.whl (1.0 MB)\n",
      "\u001b[K     |████████████████████████████████| 1.0 MB 33.7 MB/s eta 0:00:01\n",
      "\u001b[?25hCollecting interval\n",
      "  Downloading interval-1.0.0.zip (14 kB)\n",
      "Requirement already satisfied: tqdm in /opt/conda/lib/python3.8/site-packages (from paddle-quantum) (4.63.1)\n",
      "Requirement already satisfied: cycler>=0.10 in /opt/conda/lib/python3.8/site-packages (from matplotlib>=3.3.0->paddle-quantum) (0.11.0)\n",
      "Requirement already satisfied: fonttools>=4.22.0 in /opt/conda/lib/python3.8/site-packages (from matplotlib>=3.3.0->paddle-quantum) (4.31.2)\n",
      "Requirement already satisfied: kiwisolver>=1.0.1 in /opt/conda/lib/python3.8/site-packages (from matplotlib>=3.3.0->paddle-quantum) (1.4.2)\n",
      "Requirement already satisfied: pyparsing>=2.2.1 in /opt/conda/lib/python3.8/site-packages (from matplotlib>=3.3.0->paddle-quantum) (3.0.7)\n",
      "Requirement already satisfied: python-dateutil>=2.7 in /opt/conda/lib/python3.8/site-packages (from matplotlib>=3.3.0->paddle-quantum) (2.8.2)\n",
      "Requirement already satisfied: numpy>=1.17 in /opt/conda/lib/python3.8/site-packages (from matplotlib>=3.3.0->paddle-quantum) (1.22.3)\n",
      "Requirement already satisfied: packaging>=20.0 in /opt/conda/lib/python3.8/site-packages (from matplotlib>=3.3.0->paddle-quantum) (21.3)\n",
      "Requirement already satisfied: pillow>=6.2.0 in /opt/conda/lib/python3.8/site-packages (from matplotlib>=3.3.0->paddle-quantum) (9.0.1)\n",
      "Requirement already satisfied: protobuf>=3.1.0 in /opt/conda/lib/python3.8/site-packages (from paddlepaddle>=2.2.0->paddle-quantum) (3.14.0)\n",
      "Requirement already satisfied: six in /opt/conda/lib/python3.8/site-packages (from paddlepaddle>=2.2.0->paddle-quantum) (1.16.0)\n",
      "Requirement already satisfied: requests>=2.20.0 in /opt/conda/lib/python3.8/site-packages (from paddlepaddle>=2.2.0->paddle-quantum) (2.27.1)\n",
      "Requirement already satisfied: decorator in /opt/conda/lib/python3.8/site-packages (from paddlepaddle>=2.2.0->paddle-quantum) (5.1.1)\n",
      "Requirement already satisfied: astor in /opt/conda/lib/python3.8/site-packages (from paddlepaddle>=2.2.0->paddle-quantum) (0.8.1)\n",
      "Requirement already satisfied: idna<4,>=2.5 in /opt/conda/lib/python3.8/site-packages (from requests>=2.20.0->paddlepaddle>=2.2.0->paddle-quantum) (3.3)\n",
      "Requirement already satisfied: certifi>=2017.4.17 in /opt/conda/lib/python3.8/site-packages (from requests>=2.20.0->paddlepaddle>=2.2.0->paddle-quantum) (2021.10.8)\n",
      "Requirement already satisfied: charset-normalizer~=2.0.0 in /opt/conda/lib/python3.8/site-packages (from requests>=2.20.0->paddlepaddle>=2.2.0->paddle-quantum) (2.0.12)\n",
      "Requirement already satisfied: urllib3<1.27,>=1.21.1 in /opt/conda/lib/python3.8/site-packages (from requests>=2.20.0->paddlepaddle>=2.2.0->paddle-quantum) (1.26.9)\n",
      "Collecting cirq-core>=0.12.0\n",
      "  Downloading cirq_core-0.14.0-py3-none-any.whl (1.8 MB)\n",
      "\u001b[K     |████████████████████████████████| 1.8 MB 54.0 MB/s eta 0:00:01�███████████    | 1.6 MB 54.0 MB/s eta 0:00:01\n",
      "\u001b[?25hCollecting pubchempy\n",
      "  Downloading PubChemPy-1.0.4.tar.gz (29 kB)\n",
      "Requirement already satisfied: deprecation in /opt/conda/lib/python3.8/site-packages (from openfermion->paddle-quantum) (2.1.0)\n",
      "Requirement already satisfied: sympy in /opt/conda/lib/python3.8/site-packages (from openfermion->paddle-quantum) (1.10.1)\n",
      "Collecting cirq-google>=0.12.0\n",
      "  Downloading cirq_google-0.14.0-py3-none-any.whl (541 kB)\n",
      "\u001b[K     |████████████████████████████████| 541 kB 18.6 MB/s eta 0:00:01\n",
      "\u001b[?25hRequirement already satisfied: h5py>=2.8 in /opt/conda/lib/python3.8/site-packages (from openfermion->paddle-quantum) (3.6.0)\n",
      "Requirement already satisfied: typing-extensions in /opt/conda/lib/python3.8/site-packages (from cirq-core>=0.12.0->openfermion->paddle-quantum) (4.1.1)\n",
      "Requirement already satisfied: pandas in /opt/conda/lib/python3.8/site-packages (from cirq-core>=0.12.0->openfermion->paddle-quantum) (1.3.5)\n",
      "Requirement already satisfied: sortedcontainers~=2.0 in /opt/conda/lib/python3.8/site-packages (from cirq-core>=0.12.0->openfermion->paddle-quantum) (2.4.0)\n",
      "Collecting sympy\n",
      "  Downloading sympy-1.9-py3-none-any.whl (6.2 MB)\n",
      "\u001b[K     |████████████████████████████████| 6.2 MB 64 kB/s s eta 0:00:01        | 2.0 MB 54.0 MB/s eta 0:00:01��▋         | 4.4 MB 54.0 MB/s eta 0:00:01\n",
      "\u001b[?25hCollecting duet~=0.2.0\n",
      "  Downloading duet-0.2.5-py3-none-any.whl (28 kB)\n",
      "Collecting google-api-core[grpc]<2.0.0dev,>=1.14.0\n",
      "  Using cached google_api_core-1.31.5-py2.py3-none-any.whl (93 kB)\n",
      "Collecting googleapis-common-protos<2.0dev,>=1.6.0\n",
      "  Downloading googleapis_common_protos-1.56.0-py2.py3-none-any.whl (241 kB)\n",
      "\u001b[K     |████████████████████████████████| 241 kB 57.5 MB/s eta 0:00:01\n",
      "\u001b[?25hRequirement already satisfied: pytz in /opt/conda/lib/python3.8/site-packages (from google-api-core[grpc]<2.0.0dev,>=1.14.0->cirq-google>=0.12.0->openfermion->paddle-quantum) (2022.1)\n",
      "Collecting google-auth<2.0dev,>=1.25.0\n",
      "  Downloading google_auth-1.35.0-py2.py3-none-any.whl (152 kB)\n",
      "\u001b[K     |████████████████████████████████| 152 kB 56.0 MB/s eta 0:00:01\n",
      "\u001b[?25hRequirement already satisfied: setuptools>=40.3.0 in /opt/conda/lib/python3.8/site-packages (from google-api-core[grpc]<2.0.0dev,>=1.14.0->cirq-google>=0.12.0->openfermion->paddle-quantum) (61.2.0)\n",
      "Collecting grpcio<2.0dev,>=1.29.0\n",
      "  Downloading grpcio-1.44.0-cp38-cp38-manylinux_2_17_x86_64.manylinux2014_x86_64.whl (4.3 MB)\n",
      "\u001b[K     |████████████████████████████████| 4.3 MB 22 kB/s s eta 0:00:01\n",
      "\u001b[?25hCollecting pyasn1-modules>=0.2.1\n",
      "  Using cached pyasn1_modules-0.2.8-py2.py3-none-any.whl (155 kB)\n",
      "Collecting cachetools<5.0,>=2.0.0\n",
      "  Using cached cachetools-4.2.4-py3-none-any.whl (10 kB)\n",
      "Collecting rsa<5,>=3.1.4\n",
      "  Using cached rsa-4.8-py3-none-any.whl (39 kB)\n",
      "Collecting pyasn1<0.5.0,>=0.4.6\n",
      "  Using cached pyasn1-0.4.8-py2.py3-none-any.whl (77 kB)\n",
      "Requirement already satisfied: mpmath>=0.19 in /opt/conda/lib/python3.8/site-packages (from sympy->openfermion->paddle-quantum) (1.2.1)\n",
      "Building wheels for collected packages: interval, pubchempy\n",
      "  Building wheel for interval (setup.py) ... \u001b[?25ldone\n",
      "\u001b[?25h  Created wheel for interval: filename=interval-1.0.0-py3-none-any.whl size=14271 sha256=3d99f821cadfc56de96f0489caf9db58b21461acc9cf86d40bf38e6241b11543\n",
      "  Stored in directory: /home/jovyan/.cache/pip/wheels/51/0a/ef/07d42e93689b84f008abfe78d01aaed1818f3447423769b27e\n",
      "  Building wheel for pubchempy (setup.py) ... \u001b[?25ldone\n",
      "\u001b[?25h  Created wheel for pubchempy: filename=PubChemPy-1.0.4-py3-none-any.whl size=13834 sha256=5ebb59ef25ffb205c00b4f7a3acf7bbe3d69c7458a8d756c0c1edfd1370cdecb\n",
      "  Stored in directory: /home/jovyan/.cache/pip/wheels/b0/8c/ba/3b00b89931153bf5a4eaa8e73bd1b0319a879cc45175326854\n",
      "Successfully built interval pubchempy\n",
      "Installing collected packages: pyasn1, rsa, pyasn1-modules, cachetools, googleapis-common-protos, google-auth, sympy, grpcio, google-api-core, duet, cirq-core, pubchempy, cirq-google, openfermion, interval, paddle-quantum\n",
      "  Attempting uninstall: sympy\n",
      "    Found existing installation: sympy 1.10.1\n",
      "    Uninstalling sympy-1.10.1:\n"
     ]
    },
    {
     "name": "stderr",
     "output_type": "stream",
     "text": [
      "W0403 20:12:26.095770   103 sampler.cpp:139] bvar is busy at sampling for 2 seconds!\n"
     ]
    },
    {
     "name": "stdout",
     "output_type": "stream",
     "text": [
      "      Successfully uninstalled sympy-1.10.1\n",
      "Successfully installed cachetools-4.2.4 cirq-core-0.14.0 cirq-google-0.14.0 duet-0.2.5 google-api-core-1.31.5 google-auth-1.35.0 googleapis-common-protos-1.56.0 grpcio-1.44.0 interval-1.0.0 openfermion-1.3.0 paddle-quantum-2.1.3 pubchempy-1.0.4 pyasn1-0.4.8 pyasn1-modules-0.2.8 rsa-4.8 sympy-1.9\n",
      "Note: you may need to restart the kernel to use updated packages.\n"
     ]
    }
   ],
   "source": [
    "pip install paddle-quantum"
   ]
  },
  {
   "cell_type": "code",
   "execution_count": 6,
   "id": "389a97e4-703a-4031-aff5-4d5d251bf9fd",
   "metadata": {},
   "outputs": [],
   "source": [
    "# Import necessary library\n",
    "import paddle\n",
    "from paddle_quantum.circuit import UAnsatz\n",
    "import numpy as np"
   ]
  },
  {
   "cell_type": "code",
   "execution_count": 7,
   "id": "20b08d4b-cedc-40af-a95c-3ecc900393d0",
   "metadata": {},
   "outputs": [
    {
     "name": "stdout",
     "output_type": "stream",
     "text": [
      "--X--\n",
      "     \n",
      "--X--\n",
      "     \n",
      "--X--\n",
      "     \n",
      "-----\n",
      "     \n"
     ]
    }
   ],
   "source": [
    "n=4\n",
    "basis_en=UAnsatz(n)\n",
    "x='1110'\n",
    "# Add a Pauli X gate to the ith qubit if the ith classical bit is 1\n",
    "for i in range(len(x)):\n",
    "    if x[i]=='1':\n",
    "        basis_en.x(i)\n",
    "        \n",
    "print(basis_en)\n"
   ]
  },
  {
   "cell_type": "code",
   "execution_count": 10,
   "id": "df7ae3fe-ea8d-44ef-abcc-336bd5c540a9",
   "metadata": {},
   "outputs": [
    {
     "name": "stdout",
     "output_type": "stream",
     "text": [
      "[0.+0.j 0.+0.j 0.+0.j 0.+0.j 0.+0.j 0.+0.j 0.+0.j 0.+0.j 0.+0.j 0.+0.j\n",
      " 0.+0.j 0.+0.j 0.+0.j 0.+0.j 1.+0.j 0.+0.j]\n"
     ]
    }
   ],
   "source": [
    "basis_quan_state=basis_en.run_state_vector()\n",
    "print(basis_quan_state.numpy())"
   ]
  },
  {
   "cell_type": "markdown",
   "id": "0f383b09-6ffd-4d97-95d7-db77396f4cb7",
   "metadata": {},
   "source": [
    "which is the state |1110>  as we desired."
   ]
  },
  {
   "cell_type": "code",
   "execution_count": 13,
   "id": "2110670b-e91b-40af-b205-e7eec989975b",
   "metadata": {},
   "outputs": [
    {
     "name": "stdout",
     "output_type": "stream",
     "text": [
      "[0.+0.j 0.+0.j 0.+0.j 0.+0.j 0.+0.j 0.+0.j 0.+0.j 0.+0.j 0.+0.j 0.+0.j\n",
      " 0.+0.j 1.+0.j 0.+0.j 0.+0.j 0.+0.j 0.+0.j]\n"
     ]
    }
   ],
   "source": [
    "# Built-in basis encoding\n",
    "built_in_basis_enc = UAnsatz(n)\n",
    "# Classical information x should be of type Tensor\n",
    "x = paddle.to_tensor([1, 0, 1, 1])\n",
    "built_in_basis_enc.basis_encoding(x)\n",
    "built_in_basis_enc_state = built_in_basis_enc.run_state_vector()\n",
    "print(built_in_basis_enc_state.numpy())"
   ]
  },
  {
   "cell_type": "markdown",
   "id": "6dd72032-81db-44a2-b71e-c6dc0c682a3c",
   "metadata": {},
   "source": [
    "Amplitude Encoding\n"
   ]
  },
  {
   "cell_type": "code",
   "execution_count": 14,
   "id": "740cd230-ed2a-40b8-b283-a7b1096722a9",
   "metadata": {},
   "outputs": [
    {
     "name": "stdout",
     "output_type": "stream",
     "text": [
      "[0.57735026+0.j 0.57735026+0.j 0.57735026+0.j 0.        +0.j]\n"
     ]
    },
    {
     "name": "stderr",
     "output_type": "stream",
     "text": [
      "/opt/conda/lib/python3.8/site-packages/paddle/fluid/framework.py:744: DeprecationWarning: `np.bool` is a deprecated alias for the builtin `bool`. To silence this warning, use `bool` by itself. Doing this will not modify any behavior and is safe. If you specifically wanted the numpy scalar type, use `np.bool_` here.\n",
      "Deprecated in NumPy 1.20; for more details and guidance: https://numpy.org/devdocs/release/1.20.0-notes.html#deprecations\n",
      "  elif dtype == np.bool:\n"
     ]
    }
   ],
   "source": [
    "# Number of qubits = 2\n",
    "n = 2\n",
    "# Initialize the circuit\n",
    "built_in_amplitude_enc = UAnsatz(n)\n",
    "# Classical information x should be of type Tensor\n",
    "x = paddle.to_tensor([0.5, 0.5, 0.5])\n",
    "state = built_in_amplitude_enc.amplitude_encoding(x, 'state_vector')\n",
    "print(state.numpy())"
   ]
  },
  {
   "cell_type": "markdown",
   "id": "889c0c83-d7e5-468f-9fd0-3c0571a13e10",
   "metadata": {},
   "source": [
    "Angle Encoding"
   ]
  },
  {
   "cell_type": "code",
   "execution_count": 15,
   "id": "d90b9fff-26c9-4fdc-85cc-15df63cf8718",
   "metadata": {},
   "outputs": [
    {
     "name": "stdout",
     "output_type": "stream",
     "text": [
      "--Ry(3.142)--\n",
      "             \n",
      "--Ry(3.142)--\n",
      "             \n",
      "--Ry(3.142)--\n",
      "             \n"
     ]
    }
   ],
   "source": [
    "n=3\n",
    "angle_en=UAnsatz(n)\n",
    "x=paddle.to_tensor([np.pi,np.pi,np.pi], 'float64')\n",
    "# Add a layer of rotation y gates\n",
    "for i in range(len(x)):\n",
    "    angle_en.ry(x[i],i)\n",
    "\n",
    "print(angle_en)\n"
   ]
  },
  {
   "cell_type": "code",
   "execution_count": 16,
   "id": "ac5fde67-2563-4847-8750-d7d0878956f7",
   "metadata": {},
   "outputs": [
    {
     "name": "stdout",
     "output_type": "stream",
     "text": [
      "[0j, 0j, 0j, 0j, 0j, 0j, 0j, (1+0j)]\n"
     ]
    },
    {
     "name": "stderr",
     "output_type": "stream",
     "text": [
      "W0403 21:46:39.391532   103 sampler.cpp:139] bvar is busy at sampling for 2 seconds!\n",
      "W0403 21:46:58.999871   103 sampler.cpp:139] bvar is busy at sampling for 2 seconds!\n",
      "W0403 21:47:27.076992   103 sampler.cpp:139] bvar is busy at sampling for 2 seconds!\n",
      "W0403 21:47:40.337090   103 sampler.cpp:139] bvar is busy at sampling for 2 seconds!\n",
      "W0403 21:48:05.264708   103 sampler.cpp:139] bvar is busy at sampling for 2 seconds!\n"
     ]
    }
   ],
   "source": [
    "angle_quan_state = angle_en.run_state_vector()\n",
    "print([np.round(i, 2) for i in angle_quan_state.numpy()])"
   ]
  },
  {
   "cell_type": "code",
   "execution_count": null,
   "id": "70da62d5-073e-4bc2-b9ec-89f6d1ce0afa",
   "metadata": {},
   "outputs": [],
   "source": [
    "# Built-in angle encoding\n",
    "# Number of qubits\n",
    "n = 3\n",
    "# Initialize the circuit\n",
    "built_in_angle_enc = UAnsatz(n)\n",
    "# Classical information x should be of type Tensor\n",
    "x = paddle.to_tensor([np.pi, np.pi, np.pi], 'float64')\n",
    "built_in_angle_enc.angle_encoding(x, \"ry\")\n",
    "state = built_in_angle_enc.run_state_vector()\n",
    "print([np.round(i, 2) for i in state.numpy()])"
   ]
  }
 ],
 "metadata": {
  "kernelspec": {
   "display_name": "Qiskit v0.34.2 (ipykernel)",
   "language": "python",
   "name": "python3"
  },
  "language_info": {
   "codemirror_mode": {
    "name": "ipython",
    "version": 3
   },
   "file_extension": ".py",
   "mimetype": "text/x-python",
   "name": "python",
   "nbconvert_exporter": "python",
   "pygments_lexer": "ipython3",
   "version": "3.8.13"
  },
  "widgets": {
   "application/vnd.jupyter.widget-state+json": {
    "state": {
     "13109e9537c748e7a9caf6efb359bc7d": {
      "model_module": "@jupyter-widgets/controls",
      "model_module_version": "1.5.0",
      "model_name": "HTMLModel",
      "state": {
       "layout": "IPY_MODEL_66075cbf70154c40beba8a1fd0b0a5ef",
       "style": "IPY_MODEL_27da3f33a4fe45a6a2a447ded2320a58",
       "value": "<h5>Job ID</h5>"
      }
     },
     "1c457e09322640659b1afc8aba08370c": {
      "model_module": "@jupyter-widgets/controls",
      "model_module_version": "1.5.0",
      "model_name": "HTMLModel",
      "state": {
       "layout": "IPY_MODEL_8fe8dda50c4441388526daae3ab3ec7f",
       "style": "IPY_MODEL_7d10bafae5f54ed79ffb8c142b92756a",
       "value": "<h5>Backend</h5>"
      }
     },
     "21df65d8d18c4f1bb30e3883152d0008": {
      "model_module": "@jupyter-widgets/controls",
      "model_module_version": "1.5.0",
      "model_name": "HTMLModel",
      "state": {
       "layout": "IPY_MODEL_398326da4004408d8ea5808219a0ab84",
       "style": "IPY_MODEL_8b8527c64f074893ab686296ba9bb4e6",
       "value": "<h5>Status</h5>"
      }
     },
     "25a866d9fbc748fc85386261dd90ee01": {
      "model_module": "@jupyter-widgets/base",
      "model_module_version": "1.2.0",
      "model_name": "LayoutModel",
      "state": {
       "grid_area": "right",
       "padding": "0px 0px 0px 0px",
       "width": "70px"
      }
     },
     "27da3f33a4fe45a6a2a447ded2320a58": {
      "model_module": "@jupyter-widgets/controls",
      "model_module_version": "1.5.0",
      "model_name": "DescriptionStyleModel",
      "state": {
       "description_width": ""
      }
     },
     "398326da4004408d8ea5808219a0ab84": {
      "model_module": "@jupyter-widgets/base",
      "model_module_version": "1.2.0",
      "model_name": "LayoutModel",
      "state": {
       "width": "95px"
      }
     },
     "3e1ac35e91b94f0c88779a8f369d7621": {
      "model_module": "@jupyter-widgets/base",
      "model_module_version": "1.2.0",
      "model_name": "LayoutModel",
      "state": {
       "width": "70px"
      }
     },
     "4007729571db4021a557fae062a84463": {
      "model_module": "@jupyter-widgets/base",
      "model_module_version": "1.2.0",
      "model_name": "LayoutModel",
      "state": {
       "grid_template_areas": "\n                                       \". . . . right \"\n                                        ",
       "grid_template_columns": "20% 20% 20% 20% 20%",
       "width": "100%"
      }
     },
     "5e17666daf0648eabd57b199c14e22b4": {
      "model_module": "@jupyter-widgets/controls",
      "model_module_version": "1.5.0",
      "model_name": "DescriptionStyleModel",
      "state": {
       "description_width": ""
      }
     },
     "66075cbf70154c40beba8a1fd0b0a5ef": {
      "model_module": "@jupyter-widgets/base",
      "model_module_version": "1.2.0",
      "model_name": "LayoutModel",
      "state": {
       "width": "190px"
      }
     },
     "6e43339850ec4d7a98f2eebbef093458": {
      "model_module": "@jupyter-widgets/controls",
      "model_module_version": "1.5.0",
      "model_name": "HTMLModel",
      "state": {
       "layout": "IPY_MODEL_aba74720076e4db389351e621519d589",
       "style": "IPY_MODEL_5e17666daf0648eabd57b199c14e22b4",
       "value": "<p style='font-family: IBM Plex Sans, Arial, Helvetica, sans-serif; font-size: 20px; font-weight: medium;'>Circuit Properties</p>"
      }
     },
     "6fe05445ee174fb793bc302346619aea": {
      "model_module": "@jupyter-widgets/controls",
      "model_module_version": "1.5.0",
      "model_name": "HTMLModel",
      "state": {
       "layout": "IPY_MODEL_3e1ac35e91b94f0c88779a8f369d7621",
       "style": "IPY_MODEL_8d05864f2f4a4e298fb8e6b007bd427f",
       "value": "<h5>Queue</h5>"
      }
     },
     "7d10bafae5f54ed79ffb8c142b92756a": {
      "model_module": "@jupyter-widgets/controls",
      "model_module_version": "1.5.0",
      "model_name": "DescriptionStyleModel",
      "state": {
       "description_width": ""
      }
     },
     "8b8527c64f074893ab686296ba9bb4e6": {
      "model_module": "@jupyter-widgets/controls",
      "model_module_version": "1.5.0",
      "model_name": "DescriptionStyleModel",
      "state": {
       "description_width": ""
      }
     },
     "8d05864f2f4a4e298fb8e6b007bd427f": {
      "model_module": "@jupyter-widgets/controls",
      "model_module_version": "1.5.0",
      "model_name": "DescriptionStyleModel",
      "state": {
       "description_width": ""
      }
     },
     "8fe8dda50c4441388526daae3ab3ec7f": {
      "model_module": "@jupyter-widgets/base",
      "model_module_version": "1.2.0",
      "model_name": "LayoutModel",
      "state": {
       "width": "145px"
      }
     },
     "9808aedc5ec54a7c974b279a41cd5af6": {
      "model_module": "@jupyter-widgets/base",
      "model_module_version": "1.2.0",
      "model_name": "LayoutModel",
      "state": {
       "margin": "0px 0px 0px 37px",
       "width": "600px"
      }
     },
     "a1fae9134c1a42b3b262347ea5799d8f": {
      "model_module": "@jupyter-widgets/controls",
      "model_module_version": "1.5.0",
      "model_name": "DescriptionStyleModel",
      "state": {
       "description_width": ""
      }
     },
     "aba74720076e4db389351e621519d589": {
      "model_module": "@jupyter-widgets/base",
      "model_module_version": "1.2.0",
      "model_name": "LayoutModel",
      "state": {
       "margin": "0px 0px 10px 0px"
      }
     },
     "b786544c38bf48ceb4eeb0dd82ed8def": {
      "model_module": "@jupyter-widgets/controls",
      "model_module_version": "1.5.0",
      "model_name": "GridBoxModel",
      "state": {
       "children": [
        "IPY_MODEL_e26ef4ba821e4459830d915c45f72b29"
       ],
       "layout": "IPY_MODEL_4007729571db4021a557fae062a84463"
      }
     },
     "b9c35d0fa40542f6990e8d77fe54f295": {
      "model_module": "@jupyter-widgets/controls",
      "model_module_version": "1.5.0",
      "model_name": "ButtonStyleModel",
      "state": {}
     },
     "c01592389f1d4530a566221ff4dd5d39": {
      "model_module": "@jupyter-widgets/base",
      "model_module_version": "1.2.0",
      "model_name": "LayoutModel",
      "state": {}
     },
     "c9727c93e34c47f7a0fdba223311a06a": {
      "model_module": "@jupyter-widgets/controls",
      "model_module_version": "1.5.0",
      "model_name": "HBoxModel",
      "state": {
       "children": [
        "IPY_MODEL_13109e9537c748e7a9caf6efb359bc7d",
        "IPY_MODEL_1c457e09322640659b1afc8aba08370c",
        "IPY_MODEL_21df65d8d18c4f1bb30e3883152d0008",
        "IPY_MODEL_6fe05445ee174fb793bc302346619aea",
        "IPY_MODEL_d202c396568848b980ca506832c92e94"
       ],
       "layout": "IPY_MODEL_9808aedc5ec54a7c974b279a41cd5af6"
      }
     },
     "d202c396568848b980ca506832c92e94": {
      "model_module": "@jupyter-widgets/controls",
      "model_module_version": "1.5.0",
      "model_name": "HTMLModel",
      "state": {
       "layout": "IPY_MODEL_c01592389f1d4530a566221ff4dd5d39",
       "style": "IPY_MODEL_a1fae9134c1a42b3b262347ea5799d8f",
       "value": "<h5>Message</h5>"
      }
     },
     "e26ef4ba821e4459830d915c45f72b29": {
      "model_module": "@jupyter-widgets/controls",
      "model_module_version": "1.5.0",
      "model_name": "ButtonModel",
      "state": {
       "button_style": "primary",
       "description": "Clear",
       "layout": "IPY_MODEL_25a866d9fbc748fc85386261dd90ee01",
       "style": "IPY_MODEL_b9c35d0fa40542f6990e8d77fe54f295"
      }
     }
    },
    "version_major": 2,
    "version_minor": 0
   }
  }
 },
 "nbformat": 4,
 "nbformat_minor": 5
}
